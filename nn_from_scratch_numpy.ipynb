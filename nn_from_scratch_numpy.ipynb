{
 "cells": [
  {
   "cell_type": "markdown",
   "id": "d04f9aa4-b73a-4b54-86e9-096b89008757",
   "metadata": {},
   "source": [
    "# Build a nerual net work from scratch using numpy"
   ]
  },
  {
   "cell_type": "code",
   "execution_count": 1,
   "id": "55a37217-ad4c-46be-9e07-4e846a149878",
   "metadata": {},
   "outputs": [
    {
     "ename": "ModuleNotFoundError",
     "evalue": "No module named 'trading'",
     "output_type": "error",
     "traceback": [
      "\u001b[1;31m---------------------------------------------------------------------------\u001b[0m",
      "\u001b[1;31mModuleNotFoundError\u001b[0m                       Traceback (most recent call last)",
      "\u001b[1;32m<ipython-input-1-dc2977146bf7>\u001b[0m in \u001b[0;36m<module>\u001b[1;34m\u001b[0m\n\u001b[0;32m     13\u001b[0m \u001b[1;32mfrom\u001b[0m \u001b[0mtorchvision\u001b[0m \u001b[1;32mimport\u001b[0m \u001b[0mdatasets\u001b[0m\u001b[1;33m\u001b[0m\u001b[1;33m\u001b[0m\u001b[0m\n\u001b[0;32m     14\u001b[0m \u001b[1;32mfrom\u001b[0m \u001b[0msklearn\u001b[0m\u001b[1;33m.\u001b[0m\u001b[0mutils\u001b[0m\u001b[1;33m.\u001b[0m\u001b[0mextmath\u001b[0m \u001b[1;32mimport\u001b[0m \u001b[0msoftmax\u001b[0m\u001b[1;33m\u001b[0m\u001b[1;33m\u001b[0m\u001b[0m\n\u001b[1;32m---> 15\u001b[1;33m \u001b[1;32mfrom\u001b[0m \u001b[0mtrading\u001b[0m\u001b[1;33m.\u001b[0m\u001b[0mdata\u001b[0m\u001b[1;33m.\u001b[0m\u001b[0mdata_folder\u001b[0m \u001b[1;32mimport\u001b[0m \u001b[0mdata_folder\u001b[0m\u001b[1;33m\u001b[0m\u001b[1;33m\u001b[0m\u001b[0m\n\u001b[0m\u001b[0;32m     16\u001b[0m \u001b[0mdata_folder\u001b[0m \u001b[1;33m=\u001b[0m \u001b[0mdata_folder\u001b[0m \u001b[1;33m+\u001b[0m \u001b[1;34m\"ml_data/\"\u001b[0m\u001b[1;33m\u001b[0m\u001b[1;33m\u001b[0m\u001b[0m\n",
      "\u001b[1;31mModuleNotFoundError\u001b[0m: No module named 'trading'"
     ]
    }
   ],
   "source": [
    "# -*- coding: utf-8 -*-\n",
    "\"\"\"\n",
    "Created on Mon Oct 18 09:17:28 2021\n",
    "@author: Chenfeng Chen\n",
    "\n",
    "Build a neural network from scratch using numpy.\n",
    "\n",
    "\"\"\"\n",
    "\n",
    "import numpy as np\n",
    "import random\n",
    "import matplotlib.pyplot as plt\n",
    "from torchvision import datasets\n",
    "from sklearn.utils.extmath import softmax\n",
    "from trading.data.data_folder import data_folder\n",
    "data_folder = data_folder + \"ml_data/\"\n"
   ]
  },
  {
   "cell_type": "code",
   "execution_count": 3,
   "id": "0c908bb7-51f1-45ed-b2fd-a8da6eabff29",
   "metadata": {},
   "outputs": [],
   "source": [
    "\n",
    "def image_to_1D_array(data):\n",
    "    \"\"\" Convert a torchvision dataset to two numpy arrays x and y, where x is\n",
    "    the input array and y is the output array. The input array x will be \n",
    "    converted from a 2D array to a 1D array and devided by 255 to make all the\n",
    "    values to be in the range of 0 to 1. \n",
    "\n",
    "    Parameters\n",
    "    ----------\n",
    "    data : torchvision dataset\n",
    "        A torchvision non-transformed dataset,\n",
    "        e.g. torchvision.datasets.MNIST()\n",
    "        \n",
    "    Returns\n",
    "    -------\n",
    "    x: Input array for a neural network, having a shape[N, H*W], where N is\n",
    "        the number of the samples in the given training/test data, H is the\n",
    "        height of a image and W is the width of a image. x is devided by 255\n",
    "        to squeeze the values to 0 - 1. \n",
    "    y: Output array for a neural network.\n",
    "    \"\"\"\n",
    "    n = len(data) # number of samples.\n",
    "    x_shape = data[0][0].size # shape of x.\n",
    "    x = np.zeros([n, x_shape[0]*x_shape[1]])\n",
    "    y = np.zeros(n)\n",
    "    for i in range(n):\n",
    "        x[i, :] = np.asarray(data[i][0]).flatten()/255\n",
    "        y[i, ] = data[i][1]\n",
    "    return x, y\n",
    "\n",
    "\n",
    "def number_to_one_hot(data):\n",
    "    \"\"\" Convert number in a torchvision output array to one-hot encoded\n",
    "    numpy array.    \n",
    "\n",
    "    Parameters\n",
    "    ----------\n",
    "    data : numpy 1D array\n",
    "        The y output array for a neural network,\n",
    "        e.g. the y returned from the function image_to_1D_array().\n",
    "\n",
    "    Returns\n",
    "    -------\n",
    "    y : numpy 2D array\n",
    "        A one-hot encoded array with a shape[N, 10], where N is the number of\n",
    "        the samples in the given training/test data.\n",
    "    \"\"\"\n",
    "    n = len(data) # number of samples.\n",
    "    data = data.astype(int) # convert data to int.\n",
    "    y = np.zeros([n, 10])\n",
    "    for i in range(n):\n",
    "        y[i, data[i]] = 1\n",
    "    return y\n",
    "\n",
    "\n",
    "def sigmoid(x):\n",
    "    y = 1/(1 + np.exp(-x))\n",
    "    return y\n",
    "\n",
    "\n",
    "def sigmoid_derivative(x):\n",
    "    y = x*(1-x)    \n",
    "    return y\n",
    "\n",
    "\n",
    "def relu(x):\n",
    "    y = np.copy(x)\n",
    "    y[x <= 0] = 0\n",
    "    return y\n",
    "\n",
    "\n",
    "def relu_derivative(x):\n",
    "    y = np.ones(x.shape)\n",
    "    y[x <= 0] = 0\n",
    "    return y\n",
    "\n",
    "\n",
    "def softmax_naive(x):\n",
    "    y = np.exp(x)/np.sum(np.exp(x))\n",
    "    return y\n",
    "\n",
    "\n",
    "def softmax_sklearn(X, copy=True):\n",
    "    \"\"\" Calculate the softmax function.\n",
    "    The softmax function is calculated by\n",
    "    np.exp(X) / np.sum(np.exp(X), axis=1)\n",
    "    This will cause overflow when large values are exponentiated.\n",
    "    Hence the largest value in each row is subtracted from each data\n",
    "    point to prevent this.\n",
    "    \n",
    "    Parameters\n",
    "    ----------\n",
    "    X : array-like of float of shape (M, N)\n",
    "        Argument to the logistic function.\n",
    "    copy : bool, default=True\n",
    "        Copy X or not.\n",
    "    Returns\n",
    "    -------\n",
    "    out : ndarray of shape (M, N)\n",
    "        Softmax function evaluated at every point in x.\n",
    "    \"\"\"\n",
    "    if copy:\n",
    "        X = np.copy(X)\n",
    "    max_prob = np.max(X, axis=1).reshape((-1, 1))\n",
    "    X -= max_prob\n",
    "    np.exp(X, X)\n",
    "    sum_prob = np.sum(X, axis=1).reshape((-1, 1))\n",
    "    X /= sum_prob\n",
    "    return X\n",
    "\n",
    "\n",
    "def mse_loss(y, z):\n",
    "    m = y.shape[0]\n",
    "    l = np.sum((y - z)**2)/(2*m)\n",
    "    return l\n",
    "\n",
    "\n",
    "def cross_entropy_loss(y, z):\n",
    "    return -np.sum(y*np.log(z))\n",
    "\n",
    "\n",
    "def calculate_dw(b, a):\n",
    "    m = b.shape[0]\n",
    "    n = a.shape[1]\n",
    "    y = np.zeros([m] + [n, b.shape[1]])\n",
    "    for i in range(m):\n",
    "        y[i, ] = b[i, ]*a[i, ].reshape(n, 1)\n",
    "    return y\n",
    "\n",
    "\n",
    "def evaluate(x, y):\n",
    "        # forward(x, y, a=sigmoid):\n",
    "    h1 = x @ w1 + b1\n",
    "    h1a = a(h1)\n",
    "    h2 = h1a @ w2 + b2\n",
    "    h2a = a(h2)\n",
    "    o = h2a @ wo + bo\n",
    "    z = softmax(o) # not using softmax.\n",
    "    \n",
    "    # Correct rate.\n",
    "    cr = np.sum(np.argmax(z, axis=0) == np.argmax(y, axis=0))/y.shape[0]\n",
    "    print(f\"Correct rate: {cr}\")\n",
    "    return cr\n",
    "\n"
   ]
  },
  {
   "cell_type": "code",
   "execution_count": 4,
   "id": "a5a13e76-efc3-483f-abe8-d92e20d8b54f",
   "metadata": {},
   "outputs": [
    {
     "name": "stdout",
     "output_type": "stream",
     "text": [
      "Downloading http://yann.lecun.com/exdb/mnist/train-images-idx3-ubyte.gz\n",
      "Downloading http://yann.lecun.com/exdb/mnist/train-images-idx3-ubyte.gz to data\\MNIST\\raw\\train-images-idx3-ubyte.gz\n"
     ]
    },
    {
     "data": {
      "application/vnd.jupyter.widget-view+json": {
       "model_id": "eae6f3b7aed540ba82d7bec86acaa572",
       "version_major": 2,
       "version_minor": 0
      },
      "text/plain": [
       "  0%|          | 0/9912422 [00:00<?, ?it/s]"
      ]
     },
     "metadata": {},
     "output_type": "display_data"
    },
    {
     "name": "stdout",
     "output_type": "stream",
     "text": [
      "Extracting data\\MNIST\\raw\\train-images-idx3-ubyte.gz to data\\MNIST\\raw\n",
      "\n",
      "Downloading http://yann.lecun.com/exdb/mnist/train-labels-idx1-ubyte.gz\n",
      "Downloading http://yann.lecun.com/exdb/mnist/train-labels-idx1-ubyte.gz to data\\MNIST\\raw\\train-labels-idx1-ubyte.gz\n"
     ]
    },
    {
     "data": {
      "application/vnd.jupyter.widget-view+json": {
       "model_id": "8d2691e7e1904a59b65f4892cadacfb3",
       "version_major": 2,
       "version_minor": 0
      },
      "text/plain": [
       "  0%|          | 0/28881 [00:00<?, ?it/s]"
      ]
     },
     "metadata": {},
     "output_type": "display_data"
    },
    {
     "name": "stdout",
     "output_type": "stream",
     "text": [
      "Extracting data\\MNIST\\raw\\train-labels-idx1-ubyte.gz to data\\MNIST\\raw\n",
      "\n",
      "Downloading http://yann.lecun.com/exdb/mnist/t10k-images-idx3-ubyte.gz\n",
      "Downloading http://yann.lecun.com/exdb/mnist/t10k-images-idx3-ubyte.gz to data\\MNIST\\raw\\t10k-images-idx3-ubyte.gz\n"
     ]
    },
    {
     "data": {
      "application/vnd.jupyter.widget-view+json": {
       "model_id": "7453574038094d6cb3b7ab693b1bd2d2",
       "version_major": 2,
       "version_minor": 0
      },
      "text/plain": [
       "  0%|          | 0/1648877 [00:00<?, ?it/s]"
      ]
     },
     "metadata": {},
     "output_type": "display_data"
    },
    {
     "name": "stdout",
     "output_type": "stream",
     "text": [
      "Extracting data\\MNIST\\raw\\t10k-images-idx3-ubyte.gz to data\\MNIST\\raw\n",
      "\n",
      "Downloading http://yann.lecun.com/exdb/mnist/t10k-labels-idx1-ubyte.gz\n",
      "Downloading http://yann.lecun.com/exdb/mnist/t10k-labels-idx1-ubyte.gz to data\\MNIST\\raw\\t10k-labels-idx1-ubyte.gz\n"
     ]
    },
    {
     "data": {
      "application/vnd.jupyter.widget-view+json": {
       "model_id": "c9ad647f70394829adee46c14e92640f",
       "version_major": 2,
       "version_minor": 0
      },
      "text/plain": [
       "  0%|          | 0/4542 [00:00<?, ?it/s]"
      ]
     },
     "metadata": {},
     "output_type": "display_data"
    },
    {
     "name": "stdout",
     "output_type": "stream",
     "text": [
      "Extracting data\\MNIST\\raw\\t10k-labels-idx1-ubyte.gz to data\\MNIST\\raw\n",
      "\n",
      "Processing...\n"
     ]
    },
    {
     "name": "stderr",
     "output_type": "stream",
     "text": [
      "C:\\Users\\chenf\\anaconda3\\lib\\site-packages\\torchvision\\datasets\\mnist.py:502: UserWarning: The given NumPy array is not writeable, and PyTorch does not support non-writeable tensors. This means you can write to the underlying (supposedly non-writeable) NumPy array using the tensor. You may want to copy the array to protect its data or make it writeable before converting it to a tensor. This type of warning will be suppressed for the rest of this program. (Triggered internally at  ..\\torch\\csrc\\utils\\tensor_numpy.cpp:143.)\n",
      "  return torch.from_numpy(parsed.astype(m[2], copy=False)).view(*s)\n"
     ]
    },
    {
     "name": "stdout",
     "output_type": "stream",
     "text": [
      "Done!\n"
     ]
    }
   ],
   "source": [
    "\n",
    "# Prepare dataset for neural network traing -----------------------------------\n",
    "\n",
    "# Import training and test data using torchvision.\n",
    "train_data = datasets.MNIST(\n",
    "    root=data_folder,\n",
    "    train=True,\n",
    "    download=True,\n",
    "    transform=None)\n",
    "test_data = datasets.MNIST(\n",
    "    root=data_folder,\n",
    "    train=False,\n",
    "    download=True,\n",
    "    transform=None)\n",
    "\n",
    "# Check the raw data.\n",
    "x, y = train_data[0]\n",
    "print(x) # sample x\n",
    "print(y) # sample y\n",
    "plt.imshow(x)\n",
    "x = np.asarray(x)\n",
    "print(x) # sample x after converting to numpy array.\n",
    "\n",
    "# tansform torchvision raw data to numpy arrays.\n",
    "x_train, y_train = image_to_1D_array(data=train_data)\n",
    "x_test, y_test = image_to_1D_array(data=test_data)\n",
    "\n",
    "# Convert number to one_hot.\n",
    "y_train = number_to_one_hot(data=y_train)\n",
    "y_test = number_to_one_hot(data=y_test)\n",
    "\n",
    "# Split a validation dataset from the training dataset.\n",
    "validation_rate = 0.1 # use 10% of training data as validation data.\n",
    "n_train = int(len(train_data)*(1 - validation_rate))\n",
    "x_validate = x_train[n_train:]\n",
    "y_validate = y_train[n_train:]\n",
    "x_train = x_train[:n_train]\n",
    "y_train = y_train[:n_train]\n",
    "\n"
   ]
  },
  {
   "cell_type": "code",
   "execution_count": null,
   "id": "ad90dd15-5ae3-4c8f-b326-022d3a1ee713",
   "metadata": {},
   "outputs": [],
   "source": [
    "\n",
    "# Set up neural network parameters --------------------------------------------\n",
    "\n",
    "# weird: batch size < 4 works better than batch size >= 4， probaly has \n",
    "# something to do with updating weights, as the values needs to be the mean of \n",
    "# all samples in a batch.\n",
    "batch_size = 2 \n",
    "\n",
    "n_x = x_train.shape[1] # number of variables for each input sample.\n",
    "n_h1 = 64 # number of neurons in the 1st hidden layer.\n",
    "n_h2 = 32 # number of neurons in the 2nd hidden layer.\n",
    "n_o = y_train.shape[1] # number of neurons in the output layer.\n",
    "\n",
    "a = sigmoid # Activation function.\n",
    "da = sigmoid_derivative # derivative of the activation function.\n",
    "\n",
    "a = relu # Activation function.\n",
    "da = relu_derivative # derivative of the activation function.\n",
    "\n",
    "loss = cross_entropy_loss\n",
    "#loss = mse_loss\n",
    "\n",
    "lr = 0.01 # learning rate.\n",
    "\n",
    "n_samples = range(len(x_train)) # number of samples.\n",
    "\n"
   ]
  },
  {
   "cell_type": "code",
   "execution_count": null,
   "id": "626ff125-0d19-4de8-a469-18a0931b7b15",
   "metadata": {},
   "outputs": [],
   "source": [
    "\n",
    "# Train the neural network ----------------------------------------------------\n",
    "\n",
    "epoch = 2 # Number of times to train through the full training set.\n",
    "\n",
    "# make weights small for better training result.\n",
    "w1 = (np.random.rand(n_x, n_h1) -0.5)/100\n",
    "b1 = (np.random.rand(n_h1)-0.5)/100\n",
    "w2 = (np.random.rand(n_h1, n_h2)-0.5)/100\n",
    "b2 = (np.random.rand(n_h2)-0.5)/100\n",
    "wo = (np.random.rand(n_h2, n_o)-0.5)/100\n",
    "bo = (np.random.rand(n_o)-0.5)/100\n",
    "\n",
    "for i in range(epoch):\n",
    "    # Get batch_size samples.\n",
    "    n = len(x_train) # number of samples.\n",
    "    # shuffle the order of samples randomly.\n",
    "    random_index = list(range(n))\n",
    "    random.shuffle(random_index)\n",
    "    random_index = np.array(random_index)    \n",
    "    \n",
    "    batch_list = np.array(range(int(np.floor(n/batch_size))))*batch_size\n",
    "    for j in batch_list:\n",
    "        # Slice the batch of x and y for training.\n",
    "        x = x_train[random_index[j : j + batch_size]]\n",
    "        y = y_train[random_index[j : j + batch_size]]\n",
    "        \n",
    "        # forward(x, y, a=sigmoid):\n",
    "        h1 = x @ w1 + b1\n",
    "        h1a = a(h1)\n",
    "        h2 = h1a @ w2 + b2\n",
    "        h2a = a(h2)\n",
    "        o = h2a @ wo + bo\n",
    "        z = softmax(o)\n",
    "        l = loss(y, z)\n",
    "        \n",
    "        # backpropagation(x, y):        \n",
    "        # Calculate derivatives.\n",
    "        dl_dbo = z - y\n",
    "        dl_db2 = (dl_dbo @ wo.T)*da(h2a)\n",
    "        dl_db1 = (dl_db2 @ w2.T)*da(h1a)        \n",
    "        dl_dwo = calculate_dw(b=dl_dbo, a=h2a)\n",
    "        dl_dw2 = calculate_dw(b=dl_db2, a=h1a)\n",
    "        dl_dw1 = calculate_dw(b=dl_db1, a=x)\n",
    "    \n",
    "        # Update weights and bais.\n",
    "        bo -= lr*dl_dbo.mean(axis=0)\n",
    "        wo -= lr*dl_dwo.mean(axis=0)\n",
    "        b2 -= lr*dl_db2.mean(axis=0)\n",
    "        w2 -= lr*dl_dw2.mean(axis=0)\n",
    "        b1 -= lr*dl_db1.mean(axis=0)\n",
    "        w1 -= lr*dl_dw1.mean(axis=0)\n",
    "        \n",
    "        #dl_dbo=dl_db2=dl_db1=dl_dwo=dl_dw2=dl_dw1=0\n",
    "    print(f\"epoch {i+1} loss: {l}\")\n",
    "    \n",
    "    #evaluate(x=x_validate, y=y_validate)\n",
    "    x = x_validate  \n",
    "    y = y_validate          \n",
    "    h1 = x @ w1 + b1\n",
    "    h1a = a(h1)\n",
    "    h2 = h1a @ w2 + b2\n",
    "    h2a = a(h2)\n",
    "    o = h2a @ wo + bo\n",
    "    z = softmax(o)\n",
    "    \n",
    "    # Correct rate.\n",
    "    cr = np.sum(np.argmax(z, axis=1) == np.argmax(y, axis=1))/y.shape[0]\n",
    "    print(f\"Correct rate: {cr}\")\n",
    "\n",
    "\n"
   ]
  },
  {
   "cell_type": "markdown",
   "id": "295ca111-5242-40ce-94d0-51638b41c6a2",
   "metadata": {},
   "source": [
    "frac {partial o} {partial w_o} = h_2a\n"
   ]
  },
  {
   "cell_type": "markdown",
   "id": "f58addd3-9962-460a-a0ac-21f54869340c",
   "metadata": {},
   "source": [
    "\n",
    "Forward functions:\n",
    "\n",
    "\n",
    "$\\int_a^b f(x) = F(b) - F(a)$\n",
    "\n",
    "\n",
    "\n",
    "\n",
    "\n",
    "\n",
    "\n",
    "\n",
    "\n",
    "\n",
    "\n",
    "\n",
    "\n",
    "\n",
    "\n"
   ]
  },
  {
   "cell_type": "code",
   "execution_count": null,
   "id": "9491ab46-5cb5-4990-9b6f-6742a7d67405",
   "metadata": {},
   "outputs": [],
   "source": []
  }
 ],
 "metadata": {
  "kernelspec": {
   "display_name": "Python 3",
   "language": "python",
   "name": "python3"
  },
  "language_info": {
   "codemirror_mode": {
    "name": "ipython",
    "version": 3
   },
   "file_extension": ".py",
   "mimetype": "text/x-python",
   "name": "python",
   "nbconvert_exporter": "python",
   "pygments_lexer": "ipython3",
   "version": "3.8.8"
  }
 },
 "nbformat": 4,
 "nbformat_minor": 5
}
